{
 "cells": [
  {
   "cell_type": "code",
   "execution_count": 1,
   "id": "0679002f",
   "metadata": {
    "_cell_guid": "b1076dfc-b9ad-4769-8c92-a6c4dae69d19",
    "_uuid": "8f2839f25d086af736a60e9eeb907d3b93b6e0e5",
    "execution": {
     "iopub.execute_input": "2024-06-24T21:42:01.909159Z",
     "iopub.status.busy": "2024-06-24T21:42:01.908724Z",
     "iopub.status.idle": "2024-06-24T21:42:02.946129Z",
     "shell.execute_reply": "2024-06-24T21:42:02.944935Z"
    },
    "papermill": {
     "duration": 1.046435,
     "end_time": "2024-06-24T21:42:02.948865",
     "exception": false,
     "start_time": "2024-06-24T21:42:01.902430",
     "status": "completed"
    },
    "tags": []
   },
   "outputs": [
    {
     "name": "stdout",
     "output_type": "stream",
     "text": [
      "/kaggle/input/fifa-21-messy-raw-dataset-for-cleaning-exploring/fifa21 raw data v2.csv\n",
      "/kaggle/input/fifa-21-messy-raw-dataset-for-cleaning-exploring/fifa21_raw_data.csv\n"
     ]
    }
   ],
   "source": [
    "# This Python 3 environment comes with many helpful analytics libraries installed\n",
    "# It is defined by the kaggle/python Docker image: https://github.com/kaggle/docker-python\n",
    "# For example, here's several helpful packages to load\n",
    "\n",
    "import numpy as np # linear algebra\n",
    "import pandas as pd # data processing, CSV file I/O (e.g. pd.read_csv)\n",
    "import re\n",
    "\n",
    "# Input data files are available in the read-only \"../input/\" directory\n",
    "# For example, running this (by clicking run or pressing Shift+Enter) will list all files under the input directory\n",
    "\n",
    "import os\n",
    "for dirname, _, filenames in os.walk('/kaggle/input'):\n",
    "    for filename in filenames:\n",
    "        print(os.path.join(dirname, filename))\n",
    "\n",
    "# You can write up to 20GB to the current directory (/kaggle/working/) that gets preserved as output when you create a version using \"Save & Run All\" \n",
    "# You can also write temporary files to /kaggle/temp/, but they won't be saved outside of the current session"
   ]
  },
  {
   "cell_type": "code",
   "execution_count": 2,
   "id": "eb7fefde",
   "metadata": {
    "execution": {
     "iopub.execute_input": "2024-06-24T21:42:02.959326Z",
     "iopub.status.busy": "2024-06-24T21:42:02.958791Z",
     "iopub.status.idle": "2024-06-24T21:42:03.458269Z",
     "shell.execute_reply": "2024-06-24T21:42:03.457079Z"
    },
    "papermill": {
     "duration": 0.508648,
     "end_time": "2024-06-24T21:42:03.462162",
     "exception": false,
     "start_time": "2024-06-24T21:42:02.953514",
     "status": "completed"
    },
    "tags": []
   },
   "outputs": [
    {
     "name": "stdout",
     "output_type": "stream",
     "text": [
      "                                           photoUrl  \\\n",
      "0  https://cdn.sofifa.com/players/158/023/21_60.png   \n",
      "1  https://cdn.sofifa.com/players/020/801/21_60.png   \n",
      "2  https://cdn.sofifa.com/players/200/389/21_60.png   \n",
      "3  https://cdn.sofifa.com/players/192/985/21_60.png   \n",
      "4  https://cdn.sofifa.com/players/190/871/21_60.png   \n",
      "\n",
      "                       LongName  \\\n",
      "0                  Lionel Messi   \n",
      "1  C. Ronaldo dos Santos Aveiro   \n",
      "2                     Jan Oblak   \n",
      "3               Kevin De Bruyne   \n",
      "4    Neymar da Silva Santos Jr.   \n",
      "\n",
      "                                           playerUrl Nationality Positions  \\\n",
      "0  http://sofifa.com/player/158023/lionel-messi/2...   Argentina  RW ST CF   \n",
      "1  http://sofifa.com/player/20801/c-ronaldo-dos-s...    Portugal     ST LW   \n",
      "2  http://sofifa.com/player/200389/jan-oblak/210005/    Slovenia        GK   \n",
      "3  http://sofifa.com/player/192985/kevin-de-bruyn...     Belgium    CAM CM   \n",
      "4  http://sofifa.com/player/190871/neymar-da-silv...      Brazil    LW CAM   \n",
      "\n",
      "                Name  Age  ↓OVA  POT  \\\n",
      "0           L. Messi   33    93   93   \n",
      "1  Cristiano Ronaldo   35    92   92   \n",
      "2           J. Oblak   27    91   93   \n",
      "3       K. De Bruyne   29    91   91   \n",
      "4          Neymar Jr   28    91   91   \n",
      "\n",
      "                                Team & Contract  ...     A/W     D/W   IR PAC  \\\n",
      "0         \\n\\n\\n\\nFC Barcelona\\n2004 ~ 2021\\n\\n  ...  Medium     Low  5 ★  85   \n",
      "1             \\n\\n\\n\\nJuventus\\n2018 ~ 2022\\n\\n  ...    High     Low  5 ★  89   \n",
      "2      \\n\\n\\n\\nAtlético Madrid\\n2014 ~ 2023\\n\\n  ...  Medium  Medium  3 ★  87   \n",
      "3      \\n\\n\\n\\nManchester City\\n2015 ~ 2023\\n\\n  ...    High    High  4 ★  76   \n",
      "4  \\n\\n\\n\\nParis Saint-Germain\\n2017 ~ 2022\\n\\n  ...    High  Medium  5 ★  91   \n",
      "\n",
      "   SHO PAS  DRI DEF PHY   Hits  \n",
      "0   92  91   95  38  65  \\n372  \n",
      "1   93  81   89  35  77  \\n344  \n",
      "2   92  78   90  52  90   \\n86  \n",
      "3   86  93   88  64  78  \\n163  \n",
      "4   85  86   94  36  59  \\n273  \n",
      "\n",
      "[5 rows x 77 columns]\n"
     ]
    },
    {
     "name": "stderr",
     "output_type": "stream",
     "text": [
      "/tmp/ipykernel_18/2521719760.py:1: DtypeWarning: Columns (76) have mixed types. Specify dtype option on import or set low_memory=False.\n",
      "  df = pd.read_csv('/kaggle/input/fifa-21-messy-raw-dataset-for-cleaning-exploring/fifa21_raw_data.csv')\n"
     ]
    }
   ],
   "source": [
    "df = pd.read_csv('/kaggle/input/fifa-21-messy-raw-dataset-for-cleaning-exploring/fifa21_raw_data.csv')\n",
    "print(df.head())"
   ]
  },
  {
   "cell_type": "markdown",
   "id": "524131ee",
   "metadata": {
    "execution": {
     "iopub.execute_input": "2024-06-24T15:03:34.847976Z",
     "iopub.status.busy": "2024-06-24T15:03:34.847079Z",
     "iopub.status.idle": "2024-06-24T15:03:34.873230Z",
     "shell.execute_reply": "2024-06-24T15:03:34.872246Z",
     "shell.execute_reply.started": "2024-06-24T15:03:34.847930Z"
    },
    "papermill": {
     "duration": 0.003651,
     "end_time": "2024-06-24T21:42:03.469837",
     "exception": false,
     "start_time": "2024-06-24T21:42:03.466186",
     "status": "completed"
    },
    "tags": []
   },
   "source": [
    "# Ensuring the weight and height have appropriate data types"
   ]
  },
  {
   "cell_type": "code",
   "execution_count": 3,
   "id": "1c0a939a",
   "metadata": {
    "execution": {
     "iopub.execute_input": "2024-06-24T21:42:03.479842Z",
     "iopub.status.busy": "2024-06-24T21:42:03.479452Z",
     "iopub.status.idle": "2024-06-24T21:42:03.574288Z",
     "shell.execute_reply": "2024-06-24T21:42:03.573066Z"
    },
    "papermill": {
     "duration": 0.103253,
     "end_time": "2024-06-24T21:42:03.577004",
     "exception": false,
     "start_time": "2024-06-24T21:42:03.473751",
     "status": "completed"
    },
    "tags": []
   },
   "outputs": [
    {
     "name": "stdout",
     "output_type": "stream",
     "text": [
      "   Weight Height\n",
      "0  159lbs   5'7\"\n",
      "1  183lbs   6'2\"\n",
      "2  192lbs   6'2\"\n",
      "3  154lbs  5'11\"\n",
      "4  150lbs   5'9\"\n",
      "   Weight  weight_lbs Height  height_in\n",
      "0  159lbs         159   5'7\"         67\n",
      "1  183lbs         183   6'2\"         74\n",
      "2  192lbs         192   6'2\"         74\n",
      "3  154lbs         154  5'11\"         71\n",
      "4  150lbs         150   5'9\"         69\n"
     ]
    }
   ],
   "source": [
    "print(df[['Weight', 'Height']].head())\n",
    "\n",
    "def convert_weight(weight):\n",
    "    if isinstance(weight, str):\n",
    "        lbs = re.findall(r'\\d+', weight)\n",
    "        if lbs:\n",
    "            return int(lbs[0])\n",
    "    return none\n",
    "def convert_height(height):\n",
    "    if isinstance(height, str):\n",
    "        match = re.match(r\"(\\d+)'(\\d+)\", height)\n",
    "        if match:\n",
    "            feet = int(match.group(1))\n",
    "            inches = int(match.group(2))\n",
    "            return feet * 12 + inches  # Convert height to total inches\n",
    "    return None\n",
    "\n",
    "# Apply the conversion functions\n",
    "df['weight_lbs'] = df['Weight'].apply(convert_weight)\n",
    "df['height_in'] = df['Height'].apply(convert_height)\n",
    "\n",
    "# Display the first few rows to check the results\n",
    "print(df[['Weight', 'weight_lbs', 'Height', 'height_in']].head())"
   ]
  },
  {
   "cell_type": "markdown",
   "id": "de8574b2",
   "metadata": {
    "papermill": {
     "duration": 0.00383,
     "end_time": "2024-06-24T21:42:03.585087",
     "exception": false,
     "start_time": "2024-06-24T21:42:03.581257",
     "status": "completed"
    },
    "tags": []
   },
   "source": [
    "# Separating joined column into year, month, day columns"
   ]
  },
  {
   "cell_type": "code",
   "execution_count": 4,
   "id": "dbfbae8c",
   "metadata": {
    "execution": {
     "iopub.execute_input": "2024-06-24T21:42:03.595430Z",
     "iopub.status.busy": "2024-06-24T21:42:03.595042Z",
     "iopub.status.idle": "2024-06-24T21:42:03.811945Z",
     "shell.execute_reply": "2024-06-24T21:42:03.810683Z"
    },
    "papermill": {
     "duration": 0.22534,
     "end_time": "2024-06-24T21:42:03.814593",
     "exception": false,
     "start_time": "2024-06-24T21:42:03.589253",
     "status": "completed"
    },
    "tags": []
   },
   "outputs": [
    {
     "name": "stdout",
     "output_type": "stream",
     "text": [
      "0     Jul 1, 2004\n",
      "1    Jul 10, 2018\n",
      "2    Jul 16, 2014\n",
      "3    Aug 30, 2015\n",
      "4     Aug 3, 2017\n",
      "Name: Joined, dtype: object\n",
      "         Joined  Year  Month  Day\n",
      "0   Jul 1, 2004  2004      7    1\n",
      "1  Jul 10, 2018  2018      7   10\n",
      "2  Jul 16, 2014  2014      7   16\n",
      "3  Aug 30, 2015  2015      8   30\n",
      "4   Aug 3, 2017  2017      8    3\n"
     ]
    }
   ],
   "source": [
    "from datetime import datetime\n",
    "print(df['Joined'].head())\n",
    "def split_joined_date(joined):\n",
    "    if isinstance(joined, str):\n",
    "        try:\n",
    "            date= datetime.strptime(joined, '%b %d, %Y')\n",
    "            return date.year, date.month, date.day\n",
    "        except ValueError:\n",
    "            return None, None, None\n",
    "    return None, None, None\n",
    "df['Year'],df['Month'], df['Day'] = zip(*df['Joined'].apply(split_joined_date))\n",
    "\n",
    "print(df[['Joined', 'Year', 'Month','Day']].head())"
   ]
  },
  {
   "cell_type": "markdown",
   "id": "40ec8833",
   "metadata": {
    "papermill": {
     "duration": 0.00405,
     "end_time": "2024-06-24T21:42:03.823397",
     "exception": false,
     "start_time": "2024-06-24T21:42:03.819347",
     "status": "completed"
    },
    "tags": []
   },
   "source": [
    "# Cleaning and trasnforming the value, wage,and release cause columns into column of integers"
   ]
  },
  {
   "cell_type": "code",
   "execution_count": 5,
   "id": "b4490ff5",
   "metadata": {
    "execution": {
     "iopub.execute_input": "2024-06-24T21:42:03.834194Z",
     "iopub.status.busy": "2024-06-24T21:42:03.833793Z",
     "iopub.status.idle": "2024-06-24T21:42:03.842731Z",
     "shell.execute_reply": "2024-06-24T21:42:03.841439Z"
    },
    "papermill": {
     "duration": 0.017468,
     "end_time": "2024-06-24T21:42:03.845112",
     "exception": false,
     "start_time": "2024-06-24T21:42:03.827644",
     "status": "completed"
    },
    "tags": []
   },
   "outputs": [
    {
     "name": "stdout",
     "output_type": "stream",
     "text": [
      "object\n",
      "0        €67.5M\n",
      "1          €46M\n",
      "2          €75M\n",
      "3          €87M\n",
      "4          €90M\n",
      "          ...  \n",
      "18974      €35K\n",
      "18975      €60K\n",
      "18976      €40K\n",
      "18977      €60K\n",
      "18978      €60K\n",
      "Name: Value, Length: 18979, dtype: object\n"
     ]
    }
   ],
   "source": [
    "def clean_and_convert(value):\n",
    "    if isinstance(value, str):\n",
    "        # Remove the euro sign and replace K and M with e3 and e6 respectively\n",
    "        value = value.replace('€', '').replace('K', 'e3').replace('M', 'e6')\n",
    "        try:\n",
    "            # Evaluate the string to convert it to an integer\n",
    "            return int(float(value))\n",
    "        except ValueError:\n",
    "            return None\n",
    "    return None\n",
    "print(df['Value'].dtype)\n",
    "print(df['Value'])"
   ]
  },
  {
   "cell_type": "code",
   "execution_count": 6,
   "id": "a1dd0c04",
   "metadata": {
    "execution": {
     "iopub.execute_input": "2024-06-24T21:42:03.856359Z",
     "iopub.status.busy": "2024-06-24T21:42:03.855911Z",
     "iopub.status.idle": "2024-06-24T21:42:03.930460Z",
     "shell.execute_reply": "2024-06-24T21:42:03.929024Z"
    },
    "papermill": {
     "duration": 0.083275,
     "end_time": "2024-06-24T21:42:03.933058",
     "exception": false,
     "start_time": "2024-06-24T21:42:03.849783",
     "status": "completed"
    },
    "tags": []
   },
   "outputs": [
    {
     "name": "stdout",
     "output_type": "stream",
     "text": [
      "       Value  Wage  Release Clause\n",
      "18974  35000  1000           57000\n",
      "18975  60000   500          165000\n",
      "18976  40000  1000           70000\n",
      "18977  60000   500          165000\n",
      "18978  60000   500          167000\n"
     ]
    }
   ],
   "source": [
    "df['Value'] = df['Value'].apply(clean_and_convert)\n",
    "df['Wage'] = df['Wage'].apply(clean_and_convert)\n",
    "df['Release Clause'] = df['Release Clause'].apply(clean_and_convert)\n",
    "print(df[['Value', 'Wage', 'Release Clause']].tail())"
   ]
  },
  {
   "cell_type": "markdown",
   "id": "c9a8eb99",
   "metadata": {
    "papermill": {
     "duration": 0.004201,
     "end_time": "2024-06-24T21:42:03.941838",
     "exception": false,
     "start_time": "2024-06-24T21:42:03.937637",
     "status": "completed"
    },
    "tags": []
   },
   "source": [
    "# Removing the newlline characters from the Hits column"
   ]
  },
  {
   "cell_type": "code",
   "execution_count": 7,
   "id": "45aa0cca",
   "metadata": {
    "execution": {
     "iopub.execute_input": "2024-06-24T21:42:03.952275Z",
     "iopub.status.busy": "2024-06-24T21:42:03.951879Z",
     "iopub.status.idle": "2024-06-24T21:42:03.979110Z",
     "shell.execute_reply": "2024-06-24T21:42:03.977756Z"
    },
    "papermill": {
     "duration": 0.035341,
     "end_time": "2024-06-24T21:42:03.981612",
     "exception": false,
     "start_time": "2024-06-24T21:42:03.946271",
     "status": "completed"
    },
    "tags": []
   },
   "outputs": [
    {
     "name": "stdout",
     "output_type": "stream",
     "text": [
      "      Value    Wage  Release Clause Hits\n",
      "0  67500000  560000       138400000  372\n",
      "1  46000000  220000        75900000  344\n",
      "2  75000000  125000       159400000   86\n",
      "3  87000000  370000       161000000  163\n",
      "4  90000000  270000       166500000  273\n"
     ]
    }
   ],
   "source": [
    "df['Hits'] = df['Hits'].str.replace('\\n','',regex=False)\n",
    "# Print the results\n",
    "print(df[['Value', 'Wage', 'Release Clause', 'Hits']].head())"
   ]
  },
  {
   "cell_type": "markdown",
   "id": "5eedee46",
   "metadata": {
    "papermill": {
     "duration": 0.004248,
     "end_time": "2024-06-24T21:42:03.990551",
     "exception": false,
     "start_time": "2024-06-24T21:42:03.986303",
     "status": "completed"
    },
    "tags": []
   },
   "source": [
    "# Separating the Team and Contract column into seperate team and contract columns"
   ]
  },
  {
   "cell_type": "code",
   "execution_count": 8,
   "id": "05e3264b",
   "metadata": {
    "execution": {
     "iopub.execute_input": "2024-06-24T21:42:04.001158Z",
     "iopub.status.busy": "2024-06-24T21:42:04.000742Z",
     "iopub.status.idle": "2024-06-24T21:42:04.514734Z",
     "shell.execute_reply": "2024-06-24T21:42:04.513150Z"
    },
    "papermill": {
     "duration": 0.522125,
     "end_time": "2024-06-24T21:42:04.517159",
     "exception": true,
     "start_time": "2024-06-24T21:42:03.995034",
     "status": "failed"
    },
    "tags": []
   },
   "outputs": [
    {
     "ename": "TypeError",
     "evalue": "StringMethods.split() takes from 1 to 2 positional arguments but 3 positional arguments (and 1 keyword-only argument) were given",
     "output_type": "error",
     "traceback": [
      "\u001b[0;31m---------------------------------------------------------------------------\u001b[0m",
      "\u001b[0;31mTypeError\u001b[0m                                 Traceback (most recent call last)",
      "Cell \u001b[0;32mIn[8], line 1\u001b[0m\n\u001b[0;32m----> 1\u001b[0m df[[\u001b[38;5;124m'\u001b[39m\u001b[38;5;124mTeam\u001b[39m\u001b[38;5;124m'\u001b[39m, \u001b[38;5;124m'\u001b[39m\u001b[38;5;124mContract\u001b[39m\u001b[38;5;124m'\u001b[39m]] \u001b[38;5;241m=\u001b[39m \u001b[43mdf\u001b[49m\u001b[43m[\u001b[49m\u001b[38;5;124;43m'\u001b[39;49m\u001b[38;5;124;43mTeam & Contract\u001b[39;49m\u001b[38;5;124;43m'\u001b[39;49m\u001b[43m]\u001b[49m\u001b[38;5;241;43m.\u001b[39;49m\u001b[43mstr\u001b[49m\u001b[38;5;241;43m.\u001b[39;49m\u001b[43msplit\u001b[49m\u001b[43m(\u001b[49m\u001b[38;5;124;43m'\u001b[39;49m\u001b[38;5;124;43m \u001b[39;49m\u001b[38;5;124;43m'\u001b[39;49m\u001b[43m,\u001b[49m\u001b[43m \u001b[49m\u001b[38;5;241;43m1\u001b[39;49m\u001b[43m,\u001b[49m\u001b[43m \u001b[49m\u001b[43mexpand\u001b[49m\u001b[38;5;241;43m=\u001b[39;49m\u001b[38;5;28;43;01mTrue\u001b[39;49;00m\u001b[43m)\u001b[49m\n",
      "File \u001b[0;32m/opt/conda/lib/python3.10/site-packages/pandas/core/strings/accessor.py:137\u001b[0m, in \u001b[0;36mforbid_nonstring_types.<locals>._forbid_nonstring_types.<locals>.wrapper\u001b[0;34m(self, *args, **kwargs)\u001b[0m\n\u001b[1;32m    132\u001b[0m     msg \u001b[38;5;241m=\u001b[39m (\n\u001b[1;32m    133\u001b[0m         \u001b[38;5;124mf\u001b[39m\u001b[38;5;124m\"\u001b[39m\u001b[38;5;124mCannot use .str.\u001b[39m\u001b[38;5;132;01m{\u001b[39;00mfunc_name\u001b[38;5;132;01m}\u001b[39;00m\u001b[38;5;124m with values of \u001b[39m\u001b[38;5;124m\"\u001b[39m\n\u001b[1;32m    134\u001b[0m         \u001b[38;5;124mf\u001b[39m\u001b[38;5;124m\"\u001b[39m\u001b[38;5;124minferred dtype \u001b[39m\u001b[38;5;124m'\u001b[39m\u001b[38;5;132;01m{\u001b[39;00m\u001b[38;5;28mself\u001b[39m\u001b[38;5;241m.\u001b[39m_inferred_dtype\u001b[38;5;132;01m}\u001b[39;00m\u001b[38;5;124m'\u001b[39m\u001b[38;5;124m.\u001b[39m\u001b[38;5;124m\"\u001b[39m\n\u001b[1;32m    135\u001b[0m     )\n\u001b[1;32m    136\u001b[0m     \u001b[38;5;28;01mraise\u001b[39;00m \u001b[38;5;167;01mTypeError\u001b[39;00m(msg)\n\u001b[0;32m--> 137\u001b[0m \u001b[38;5;28;01mreturn\u001b[39;00m \u001b[43mfunc\u001b[49m\u001b[43m(\u001b[49m\u001b[38;5;28;43mself\u001b[39;49m\u001b[43m,\u001b[49m\u001b[43m \u001b[49m\u001b[38;5;241;43m*\u001b[39;49m\u001b[43margs\u001b[49m\u001b[43m,\u001b[49m\u001b[43m \u001b[49m\u001b[38;5;241;43m*\u001b[39;49m\u001b[38;5;241;43m*\u001b[39;49m\u001b[43mkwargs\u001b[49m\u001b[43m)\u001b[49m\n",
      "\u001b[0;31mTypeError\u001b[0m: StringMethods.split() takes from 1 to 2 positional arguments but 3 positional arguments (and 1 keyword-only argument) were given"
     ]
    }
   ],
   "source": [
    "df[['Team', 'Contract']] = df['Team & Contract'].str.split(' ', 1, expand=True)"
   ]
  }
 ],
 "metadata": {
  "kaggle": {
   "accelerator": "none",
   "dataSources": [
    {
     "datasetId": 923113,
     "sourceId": 1579237,
     "sourceType": "datasetVersion"
    }
   ],
   "dockerImageVersionId": 30732,
   "isGpuEnabled": false,
   "isInternetEnabled": true,
   "language": "python",
   "sourceType": "notebook"
  },
  "kernelspec": {
   "display_name": "Python 3",
   "language": "python",
   "name": "python3"
  },
  "language_info": {
   "codemirror_mode": {
    "name": "ipython",
    "version": 3
   },
   "file_extension": ".py",
   "mimetype": "text/x-python",
   "name": "python",
   "nbconvert_exporter": "python",
   "pygments_lexer": "ipython3",
   "version": "3.10.13"
  },
  "papermill": {
   "default_parameters": {},
   "duration": 6.147149,
   "end_time": "2024-06-24T21:42:05.143800",
   "environment_variables": {},
   "exception": true,
   "input_path": "__notebook__.ipynb",
   "output_path": "__notebook__.ipynb",
   "parameters": {},
   "start_time": "2024-06-24T21:41:58.996651",
   "version": "2.5.0"
  }
 },
 "nbformat": 4,
 "nbformat_minor": 5
}
